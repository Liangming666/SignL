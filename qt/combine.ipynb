{
 "cells": [
  {
   "cell_type": "code",
   "execution_count": 9,
   "metadata": {
    "collapsed": true
   },
   "outputs": [],
   "source": [
    "import sys\n",
    "import pickle"
   ]
  },
  {
   "cell_type": "code",
   "execution_count": 45,
   "metadata": {
    "collapsed": true
   },
   "outputs": [],
   "source": [
    "combine1 = 'hmm_data/last/yes'\n",
    "combine2 = 'hmm_data/0707/yes'"
   ]
  },
  {
   "cell_type": "code",
   "execution_count": 46,
   "metadata": {
    "collapsed": false
   },
   "outputs": [
    {
     "name": "stdout",
     "output_type": "stream",
     "text": [
      "['name', 'hungry', 'want1', '1', 'd', '7', 's', '2', 'y', 'p', 'me', 'likeb2', 'i', '9', 'q', 'why2', 'nob1', 'sorry1', 'thanku1', 'want2', 'w', 'n', 'c', '3', 'g', 'v', 'time1', 'a', 'come', 'you', 'howd2', 'unders1', 't', 'nob2', '8', 'u', 'x', '6', 'h', 'e', '5', 'o', '4', 'f', 'non', 'unders2', 'm', 'b', 'likeb1', 'r', 'l', 'howd1', 'k']\n"
     ]
    }
   ],
   "source": [
    "with open(\"labels.p\", \"rb\") as fp:\n",
    "    label = pickle.load(fp)\n",
    "print label"
   ]
  },
  {
   "cell_type": "code",
   "execution_count": 47,
   "metadata": {
    "collapsed": false
   },
   "outputs": [],
   "source": [
    "with open(str(combine1)+\".npy\", \"rb\") as fp:\n",
    "    seq1 = pickle.load(fp)\n",
    "with open(str(combine2)+\".npy\", \"rb\") as fp:\n",
    "    seq2 = pickle.load(fp)"
   ]
  },
  {
   "cell_type": "code",
   "execution_count": 48,
   "metadata": {
    "collapsed": false
   },
   "outputs": [],
   "source": [
    "for i in range(len(seq2)):\n",
    "    seq1.append(seq2[i])"
   ]
  },
  {
   "cell_type": "code",
   "execution_count": 49,
   "metadata": {
    "collapsed": false
   },
   "outputs": [
    {
     "data": {
      "text/plain": [
       "80"
      ]
     },
     "execution_count": 49,
     "metadata": {},
     "output_type": "execute_result"
    }
   ],
   "source": [
    "len(seq1)"
   ]
  },
  {
   "cell_type": "code",
   "execution_count": 43,
   "metadata": {
    "collapsed": true
   },
   "outputs": [],
   "source": [
    "finish_name = 'hmm_data/0707model/yes'"
   ]
  },
  {
   "cell_type": "code",
   "execution_count": 44,
   "metadata": {
    "collapsed": false
   },
   "outputs": [],
   "source": [
    "with open(str(finish_name)+\".npy\", \"wb\") as fp:\n",
    "    pickle.dump(seq1, fp)"
   ]
  },
  {
   "cell_type": "code",
   "execution_count": null,
   "metadata": {
    "collapsed": true
   },
   "outputs": [],
   "source": []
  }
 ],
 "metadata": {
  "kernelspec": {
   "display_name": "Python 2",
   "language": "python",
   "name": "python2"
  },
  "language_info": {
   "codemirror_mode": {
    "name": "ipython",
    "version": 2
   },
   "file_extension": ".py",
   "mimetype": "text/x-python",
   "name": "python",
   "nbconvert_exporter": "python",
   "pygments_lexer": "ipython2",
   "version": "2.7.6"
  }
 },
 "nbformat": 4,
 "nbformat_minor": 2
}
