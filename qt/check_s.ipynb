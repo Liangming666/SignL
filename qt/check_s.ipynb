{
 "cells": [
  {
   "cell_type": "code",
   "execution_count": 2,
   "metadata": {
    "collapsed": true
   },
   "outputs": [],
   "source": [
    "import pickle"
   ]
  },
  {
   "cell_type": "code",
   "execution_count": 40,
   "metadata": {
    "collapsed": false
   },
   "outputs": [],
   "source": [
    "checkfilename = 'hmm_data/no'"
   ]
  },
  {
   "cell_type": "code",
   "execution_count": 41,
   "metadata": {
    "collapsed": false
   },
   "outputs": [
    {
     "name": "stdout",
     "output_type": "stream",
     "text": [
      "nob2\n"
     ]
    }
   ],
   "source": [
    "with open(\"labels.p\", \"rb\") as fp:\n",
    "    label = pickle.load(fp)\n",
    "print label[33]"
   ]
  },
  {
   "cell_type": "code",
   "execution_count": 42,
   "metadata": {
    "collapsed": false
   },
   "outputs": [
    {
     "name": "stdout",
     "output_type": "stream",
     "text": [
      "0 [0, 43, 32, 49, 49, 27, 49, 27, 27, 27, 27]\n",
      "1 [29, 49, 49, 49, 27, 49, 49, 27, 27, 27, 27]\n",
      "2 [33, 6, 41, 41, 27, 41, 41, 41, 41, 41, 41, 41, 41]\n",
      "3 [14, 29, 29]\n",
      "4 [29, 29]\n",
      "5 [29, 39, 35, 49, 49, 27, 35, 6, 27, 27, 27]\n",
      "6 [33, 35, 35, 35, 49, 27, 27, 35, 35, 35, 27, 27, 27, 27, 27, 27]\n",
      "7 [33, 18]\n",
      "8 [35, 35, 35, 33, 33, 27, 35, 35, 33, 33, 33, 33]\n",
      "9 [33, 35, 27, 27, 52, 27, 27, 49, 33, 35, 27]\n",
      "10 [49, 49, 27, 27, 49, 27, 33]\n",
      "11 [21, 35, 35, 6, 27, 27, 35, 35, 27]\n",
      "12 [33, 35, 35, 35, 27, 27, 49, 27, 33]\n",
      "13 [14, 9, 35, 27, 27, 27]\n",
      "14 [27, 46, 49, 27, 49, 27]\n",
      "15 [14, 21, 49, 27, 35, 6]\n",
      "16 [27, 35, 27, 35, 27, 27]\n",
      "17 [29, 14, 49, 46, 49, 21, 33]\n",
      "18 [35, 6, 52, 21, 21]\n",
      "19 [33, 14, 49, 33, 35, 27]\n",
      "20 [21, 35, 49, 33, 4, 27]\n",
      "21 [21, 49, 6, 27, 27, 27]\n",
      "22 [14, 14, 49, 27, 49, 27]\n"
     ]
    }
   ],
   "source": [
    "with open(str(checkfilename)+\".npy\", \"rb\") as fp:\n",
    "    seq = pickle.load(fp)\n",
    "for i in range(len(seq)):\n",
    "    print i, seq[i]"
   ]
  },
  {
   "cell_type": "code",
   "execution_count": 36,
   "metadata": {
    "collapsed": true
   },
   "outputs": [],
   "source": [
    "kill = [22]"
   ]
  },
  {
   "cell_type": "code",
   "execution_count": 37,
   "metadata": {
    "collapsed": false
   },
   "outputs": [],
   "source": [
    "for offset, index in enumerate(kill):\n",
    "  index -= offset\n",
    "  del seq[index]"
   ]
  },
  {
   "cell_type": "code",
   "execution_count": 38,
   "metadata": {
    "collapsed": false,
    "scrolled": false
   },
   "outputs": [
    {
     "name": "stdout",
     "output_type": "stream",
     "text": [
      "0 [0, 29, 46, 41, 6, 6, 6, 6, 6]\n",
      "1 [6, 41, 46, 6, 6, 46, 6]\n",
      "2 [51, 6, 6, 6, 6, 6]\n",
      "3 [6, 6, 29]\n",
      "4 [51, 6]\n",
      "5 [41, 6, 6, 14]\n",
      "6 [51, 29, 6, 6, 6, 6, 9, 21]\n",
      "7 [6, 6, 6]\n",
      "8 [19, 6, 6, 6]\n",
      "9 [46, 6, 6, 6, 6]\n",
      "10 [6, 6]\n",
      "11 [6, 6]\n",
      "12 [41, 6, 6, 6, 6]\n",
      "13 [6, 6]\n",
      "14 [6, 6, 31]\n",
      "15 [6, 14, 14, 9, 6, 51]\n",
      "16 [6, 14]\n",
      "17 [51, 6, 6, 6, 6, 14, 6]\n",
      "18 [6, 6, 6]\n",
      "19 [6, 6, 51, 6]\n",
      "20 [6, 14, 46]\n",
      "21 [6, 6, 29]\n",
      "22 [6, 6, 46, 6]\n",
      "23 [6, 6, 6]\n",
      "24 [51, 46]\n",
      "25 [6, 6, 6]\n",
      "26 [6, 6]\n",
      "27 [14, 6, 15, 6, 6, 6]\n",
      "28 [6, 6]\n",
      "29 [6, 39, 6, 6, 6]\n",
      "30 [6, 6, 14]\n",
      "31 [14, 6]\n",
      "32 [6, 6, 14, 6]\n",
      "33 [51, 6]\n",
      "34 [51, 6]\n",
      "35 [6, 41, 6, 46]\n",
      "36 [6, 14]\n",
      "37 [6, 28]\n"
     ]
    }
   ],
   "source": [
    "for i in range(len(seq)):\n",
    "    print i, seq[i]"
   ]
  },
  {
   "cell_type": "code",
   "execution_count": 39,
   "metadata": {
    "collapsed": true
   },
   "outputs": [],
   "source": [
    "with open(str(checkfilename)+\".npy\", \"wb\") as fp:\n",
    "    pickle.dump(seq, fp)"
   ]
  },
  {
   "cell_type": "code",
   "execution_count": null,
   "metadata": {
    "collapsed": true
   },
   "outputs": [],
   "source": []
  }
 ],
 "metadata": {
  "kernelspec": {
   "display_name": "Python 2",
   "language": "python",
   "name": "python2"
  },
  "language_info": {
   "codemirror_mode": {
    "name": "ipython",
    "version": 2
   },
   "file_extension": ".py",
   "mimetype": "text/x-python",
   "name": "python",
   "nbconvert_exporter": "python",
   "pygments_lexer": "ipython2",
   "version": "2.7.6"
  }
 },
 "nbformat": 4,
 "nbformat_minor": 2
}
