{
 "cells": [
  {
   "cell_type": "code",
   "execution_count": 1,
   "metadata": {
    "collapsed": true
   },
   "outputs": [],
   "source": [
    "import sys\n",
    "import pickle"
   ]
  },
  {
   "cell_type": "code",
   "execution_count": 2,
   "metadata": {
    "collapsed": true
   },
   "outputs": [],
   "source": [
    "combine1 = 'hmm_data/0716newmodel/'\n",
    "combine2 = 'hmm_data/0722model/'"
   ]
  },
  {
   "cell_type": "code",
   "execution_count": 3,
   "metadata": {
    "collapsed": true
   },
   "outputs": [],
   "source": [
    "finish_name = 'hmm_data/0722newmodel/'"
   ]
  },
  {
   "cell_type": "code",
   "execution_count": 4,
   "metadata": {
    "collapsed": true
   },
   "outputs": [],
   "source": [
    "label_list = ['come','hello','help','hold','hru','hungry','no','ok','sorry','unders']\n",
    "#label_list = ['come','hello','help','hold','hru','hungry','no','ok','sorry','soso','thx','unders','wtime','yes']"
   ]
  },
  {
   "cell_type": "code",
   "execution_count": 5,
   "metadata": {
    "collapsed": false
   },
   "outputs": [
    {
     "name": "stdout",
     "output_type": "stream",
     "text": [
      "['name', 'hungry', 'want1', '1', 'd', '7', 's', '2', 'y', 'p', 'me', 'likeb2', 'i', '9', 'q', 'why2', 'nob1', 'sorry1', 'thanku1', 'want2', 'w', 'n', 'c', '3', 'g', 'v', 'time1', 'a', 'come', 'you', 'howd2', 'unders1', 't', 'nob2', '8', 'u', 'x', '6', 'h', 'e', '5', 'o', '4', 'f', 'non', 'unders2', 'm', 'b', 'likeb1', 'r', 'l', 'howd1', 'k']\n"
     ]
    }
   ],
   "source": [
    "with open(\"labels.p\", \"rb\") as fp:\n",
    "    label = pickle.load(fp)\n",
    "print label"
   ]
  },
  {
   "cell_type": "code",
   "execution_count": 6,
   "metadata": {
    "collapsed": false
   },
   "outputs": [
    {
     "name": "stdout",
     "output_type": "stream",
     "text": [
      "310\n",
      "271\n",
      "260\n",
      "270\n",
      "264\n",
      "275\n",
      "270\n",
      "266\n",
      "256\n",
      "264\n"
     ]
    }
   ],
   "source": [
    "for label in label_list:\n",
    "    with open(str(combine1)+label+\".npy\", \"rb\") as fp:\n",
    "        seq1 = pickle.load(fp)\n",
    "    with open(str(combine2)+label+\".npy\", \"rb\") as fp:\n",
    "        seq2 = pickle.load(fp)\n",
    "    for i in range(len(seq2)):\n",
    "        seq1.append(seq2[i])\n",
    "    print len(seq1)\n",
    "    with open(str(finish_name)+label+\".npy\", \"wb\") as fp:\n",
    "        pickle.dump(seq1, fp)"
   ]
  },
  {
   "cell_type": "code",
   "execution_count": null,
   "metadata": {
    "collapsed": false
   },
   "outputs": [],
   "source": []
  },
  {
   "cell_type": "code",
   "execution_count": null,
   "metadata": {
    "collapsed": false
   },
   "outputs": [],
   "source": [
    "len(seq1)"
   ]
  },
  {
   "cell_type": "code",
   "execution_count": null,
   "metadata": {
    "collapsed": true
   },
   "outputs": [],
   "source": [
    "finish_name = 'hmm_data/0713newmodel/yes'"
   ]
  },
  {
   "cell_type": "code",
   "execution_count": null,
   "metadata": {
    "collapsed": false
   },
   "outputs": [],
   "source": [
    "with open(str(finish_name)+\".npy\", \"wb\") as fp:\n",
    "    pickle.dump(seq1, fp)"
   ]
  },
  {
   "cell_type": "code",
   "execution_count": null,
   "metadata": {
    "collapsed": true
   },
   "outputs": [],
   "source": []
  }
 ],
 "metadata": {
  "kernelspec": {
   "display_name": "Python 2",
   "language": "python",
   "name": "python2"
  },
  "language_info": {
   "codemirror_mode": {
    "name": "ipython",
    "version": 2
   },
   "file_extension": ".py",
   "mimetype": "text/x-python",
   "name": "python",
   "nbconvert_exporter": "python",
   "pygments_lexer": "ipython2",
   "version": "2.7.6"
  }
 },
 "nbformat": 4,
 "nbformat_minor": 2
}
