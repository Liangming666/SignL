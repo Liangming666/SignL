{
 "cells": [
  {
   "cell_type": "code",
   "execution_count": 1,
   "metadata": {
    "collapsed": true
   },
   "outputs": [],
   "source": [
    "import pickle"
   ]
  },
  {
   "cell_type": "code",
   "execution_count": 73,
   "metadata": {
    "collapsed": false
   },
   "outputs": [],
   "source": [
    "checkfilename = 'hmm_data/0713matt/hungry(10'"
   ]
  },
  {
   "cell_type": "code",
   "execution_count": 74,
   "metadata": {
    "collapsed": false
   },
   "outputs": [
    {
     "name": "stdout",
     "output_type": "stream",
     "text": [
      "nob2\n"
     ]
    }
   ],
   "source": [
    "with open(\"labels.p\", \"rb\") as fp:\n",
    "    label = pickle.load(fp)\n",
    "print label[33]"
   ]
  },
  {
   "cell_type": "code",
   "execution_count": 75,
   "metadata": {
    "collapsed": false
   },
   "outputs": [
    {
     "name": "stdout",
     "output_type": "stream",
     "text": [
      "0 [0, 10, 10, 10, 11, 11, 48, 1, 1, 48]\n",
      "1 [48, 11, 11, 11, 11, 17, 48, 51, 26]\n",
      "2 [10, 11, 10, 11, 11, 10, 48, 48, 51]\n",
      "3 [10, 10, 11, 11, 48, 10, 48, 48]\n",
      "4 [10, 11, 11, 48, 48, 1, 51]\n",
      "5 [10, 10, 48, 1, 48]\n",
      "6 [11, 11, 11, 48, 1, 1]\n",
      "7 [10, 10, 10, 10, 10, 11, 10, 11, 10, 48, 48, 48]\n",
      "8 [10, 10, 48, 48, 10, 51, 51]\n",
      "9 [11, 11, 11, 48, 48, 48, 30]\n"
     ]
    }
   ],
   "source": [
    "with open(str(checkfilename)+\".npy\", \"rb\") as fp:\n",
    "    seq = pickle.load(fp)\n",
    "for i in range(len(seq)):\n",
    "    print i, seq[i]"
   ]
  },
  {
   "cell_type": "code",
   "execution_count": 76,
   "metadata": {
    "collapsed": true
   },
   "outputs": [],
   "source": [
    "kill = [9]"
   ]
  },
  {
   "cell_type": "code",
   "execution_count": 77,
   "metadata": {
    "collapsed": false
   },
   "outputs": [],
   "source": [
    "for offset, index in enumerate(kill):\n",
    "  index -= offset\n",
    "  del seq[index]"
   ]
  },
  {
   "cell_type": "code",
   "execution_count": 78,
   "metadata": {
    "collapsed": false,
    "scrolled": false
   },
   "outputs": [
    {
     "name": "stdout",
     "output_type": "stream",
     "text": [
      "0 [0, 10, 10, 10, 11, 11, 48, 1, 1, 48]\n",
      "1 [48, 11, 11, 11, 11, 17, 48, 51, 26]\n",
      "2 [10, 11, 10, 11, 11, 10, 48, 48, 51]\n",
      "3 [10, 10, 11, 11, 48, 10, 48, 48]\n",
      "4 [10, 11, 11, 48, 48, 1, 51]\n",
      "5 [10, 10, 48, 1, 48]\n",
      "6 [11, 11, 11, 48, 1, 1]\n",
      "7 [10, 10, 10, 10, 10, 11, 10, 11, 10, 48, 48, 48]\n",
      "8 [10, 10, 48, 48, 10, 51, 51]\n"
     ]
    }
   ],
   "source": [
    "for i in range(len(seq)):\n",
    "    print i, seq[i]"
   ]
  },
  {
   "cell_type": "code",
   "execution_count": 79,
   "metadata": {
    "collapsed": true
   },
   "outputs": [],
   "source": [
    "with open(str(checkfilename)+\".npy\", \"wb\") as fp:\n",
    "    pickle.dump(seq, fp)"
   ]
  },
  {
   "cell_type": "code",
   "execution_count": null,
   "metadata": {
    "collapsed": true
   },
   "outputs": [],
   "source": []
  },
  {
   "cell_type": "code",
   "execution_count": null,
   "metadata": {
    "collapsed": true
   },
   "outputs": [],
   "source": []
  }
 ],
 "metadata": {
  "kernelspec": {
   "display_name": "Python 2",
   "language": "python",
   "name": "python2"
  },
  "language_info": {
   "codemirror_mode": {
    "name": "ipython",
    "version": 2
   },
   "file_extension": ".py",
   "mimetype": "text/x-python",
   "name": "python",
   "nbconvert_exporter": "python",
   "pygments_lexer": "ipython2",
   "version": "2.7.6"
  }
 },
 "nbformat": 4,
 "nbformat_minor": 2
}
