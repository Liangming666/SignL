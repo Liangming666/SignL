{
 "cells": [
  {
   "cell_type": "code",
   "execution_count": 1,
   "metadata": {
    "collapsed": true
   },
   "outputs": [],
   "source": [
    "import pickle"
   ]
  },
  {
   "cell_type": "code",
   "execution_count": 8,
   "metadata": {
    "collapsed": false
   },
   "outputs": [],
   "source": [
    "checkfilename = 'hmm_data/0707model/come'"
   ]
  },
  {
   "cell_type": "code",
   "execution_count": 9,
   "metadata": {
    "collapsed": false
   },
   "outputs": [
    {
     "name": "stdout",
     "output_type": "stream",
     "text": [
      "nob2\n"
     ]
    }
   ],
   "source": [
    "with open(\"labels.p\", \"rb\") as fp:\n",
    "    label = pickle.load(fp)\n",
    "print label[33]"
   ]
  },
  {
   "cell_type": "code",
   "execution_count": 10,
   "metadata": {
    "collapsed": false
   },
   "outputs": [
    {
     "name": "stdout",
     "output_type": "stream",
     "text": [
      "0 [0, 29, 29, 29, 28, 28, 28, 28, 43]\n",
      "1 [29, 29, 29, 28, 10]\n",
      "2 [29, 29, 28, 28, 28]\n",
      "3 [29, 29, 28, 28]\n",
      "4 [29, 38, 10, 10, 28]\n",
      "5 [29, 29, 28]\n",
      "6 [29, 29, 28, 28, 28, 28]\n",
      "7 [29, 29, 29, 28, 28, 28, 28]\n",
      "8 [29, 29, 29, 28, 28, 10, 10]\n",
      "9 [29, 29, 29, 28, 28, 10, 28, 22]\n",
      "10 [29, 29, 28, 28, 10, 28]\n",
      "11 [29, 29, 29, 28, 28, 28, 28, 28]\n",
      "12 [29, 29, 29, 28, 10, 28]\n",
      "13 [9, 29, 29, 29, 28, 28, 28]\n",
      "14 [29, 29, 29, 10, 10, 10, 10, 23]\n",
      "15 [14, 29, 29, 28, 10, 10, 10]\n",
      "16 [29, 29, 28, 10, 29]\n",
      "17 [29, 29, 28, 10, 10, 10, 28]\n",
      "18 [29, 29, 29, 28, 28, 10, 28]\n",
      "19 [29, 29, 28, 10, 28]\n",
      "20 [29, 29, 29, 28, 10, 10]\n",
      "21 [29, 29, 28, 10]\n",
      "22 [29, 29, 28, 26]\n",
      "23 [29, 29, 28, 10, 28]\n",
      "24 [29, 29, 28, 10, 10, 10]\n",
      "25 [43, 29, 29, 28, 10, 10]\n",
      "26 [10, 29, 29, 10, 28, 10]\n",
      "27 [29, 29, 10, 28]\n",
      "28 [29, 29, 29, 10, 10, 10]\n",
      "29 [29, 28, 10, 28]\n",
      "30 [14, 29, 17, 28, 28, 10]\n",
      "31 [29, 29, 28, 10, 10, 28]\n",
      "32 [29, 29, 29, 28, 28, 28]\n",
      "33 [29, 17, 10, 28]\n",
      "34 [29, 29, 28, 10, 28]\n",
      "35 [29, 29, 28, 10, 10]\n",
      "36 [29, 29, 10, 28]\n",
      "37 [29, 29, 29, 28, 10, 10, 28]\n",
      "38 [29, 29, 29, 10, 28]\n",
      "39 [29, 29, 10, 28]\n",
      "40 [19, 29, 10]\n",
      "41 [29, 29, 28, 28, 28, 28]\n",
      "42 [14, 29, 28]\n",
      "43 [29, 29, 28, 28]\n",
      "44 [29, 29, 29, 10]\n",
      "45 [29, 29, 29, 10, 28, 10, 28]\n",
      "46 [29, 29, 29, 28, 10, 10]\n",
      "47 [29, 29, 10, 10, 28]\n",
      "48 [29, 29, 38, 10, 10]\n",
      "49 [29, 29, 24]\n",
      "50 [0, 29, 51, 28, 28, 28]\n",
      "51 [29, 29, 28, 28, 28]\n",
      "52 [29, 29, 29, 11, 10, 10]\n",
      "53 [29, 29, 29, 28, 17, 10]\n",
      "54 [29, 51, 28, 28, 28, 28, 22]\n",
      "55 [29, 29, 29, 10, 10, 10]\n",
      "56 [29, 29, 29, 28, 10]\n",
      "57 [29, 29, 28]\n",
      "58 [14, 29, 29, 29, 28, 28, 10, 28]\n",
      "59 [51, 29, 29, 28, 10, 10, 10]\n",
      "60 [29, 36, 29]\n",
      "61 [28, 52, 29, 29, 29, 10, 28]\n",
      "62 [28, 36, 52, 52]\n",
      "63 [36, 36, 29, 28, 28, 28, 28, 28]\n",
      "64 [36, 36, 36, 24, 28, 28]\n",
      "65 [36, 29, 36, 24, 28, 28, 10, 28, 29]\n",
      "66 [36, 36, 36, 36, 38, 10, 28]\n",
      "67 [29, 29, 29, 29, 28, 28, 28, 10, 10]\n",
      "68 [29, 29, 29, 29, 10]\n",
      "69 [28, 28, 28, 28, 28]\n",
      "70 [30, 28, 10, 10]\n",
      "71 [11, 11, 10, 10, 10]\n",
      "72 [29, 0, 11, 10]\n",
      "73 [29, 29, 29, 29]\n",
      "74 [10, 29, 52, 52]\n",
      "75 [29, 51, 0, 29]\n",
      "76 [29, 51, 51, 24, 28]\n",
      "77 [24, 24, 24]\n",
      "78 [10, 51, 29, 29]\n",
      "79 [29, 24, 29]\n",
      "80 [0, 29, 29, 28, 10]\n",
      "81 [29, 29, 28, 28, 29, 29, 28]\n",
      "82 [29, 28]\n",
      "83 [29, 29, 10, 10]\n",
      "84 [29, 29, 29, 29, 28, 28, 28, 28, 29, 29, 29, 28, 28]\n",
      "85 [29, 29, 28, 28, 28]\n",
      "86 [29, 29, 29, 28, 28]\n",
      "87 [29, 29, 29, 28, 28]\n",
      "88 [29, 29, 28, 28, 28, 39]\n",
      "89 [29, 45, 1, 29, 29, 28]\n",
      "90 [52, 52, 28, 17, 17, 28]\n",
      "91 [29, 38, 38, 28, 28, 10]\n",
      "92 [29, 51, 28, 28, 28]\n",
      "93 [29, 51, 29, 28, 28]\n",
      "94 [29, 29, 14, 28, 28, 28]\n"
     ]
    }
   ],
   "source": [
    "with open(str(checkfilename)+\".npy\", \"rb\") as fp:\n",
    "    seq = pickle.load(fp)\n",
    "for i in range(len(seq)):\n",
    "    print i, seq[i]"
   ]
  },
  {
   "cell_type": "code",
   "execution_count": null,
   "metadata": {
    "collapsed": true
   },
   "outputs": [],
   "source": [
    "kill = [30]"
   ]
  },
  {
   "cell_type": "code",
   "execution_count": null,
   "metadata": {
    "collapsed": false
   },
   "outputs": [],
   "source": [
    "for offset, index in enumerate(kill):\n",
    "  index -= offset\n",
    "  del seq[index]"
   ]
  },
  {
   "cell_type": "code",
   "execution_count": null,
   "metadata": {
    "collapsed": false,
    "scrolled": false
   },
   "outputs": [],
   "source": [
    "for i in range(len(seq)):\n",
    "    print i, seq[i]"
   ]
  },
  {
   "cell_type": "code",
   "execution_count": null,
   "metadata": {
    "collapsed": true
   },
   "outputs": [],
   "source": [
    "with open(str(checkfilename)+\".npy\", \"wb\") as fp:\n",
    "    pickle.dump(seq, fp)"
   ]
  },
  {
   "cell_type": "code",
   "execution_count": null,
   "metadata": {
    "collapsed": true
   },
   "outputs": [],
   "source": []
  }
 ],
 "metadata": {
  "kernelspec": {
   "display_name": "Python 2",
   "language": "python",
   "name": "python2"
  },
  "language_info": {
   "codemirror_mode": {
    "name": "ipython",
    "version": 2
   },
   "file_extension": ".py",
   "mimetype": "text/x-python",
   "name": "python",
   "nbconvert_exporter": "python",
   "pygments_lexer": "ipython2",
   "version": "2.7.6"
  }
 },
 "nbformat": 4,
 "nbformat_minor": 2
}
