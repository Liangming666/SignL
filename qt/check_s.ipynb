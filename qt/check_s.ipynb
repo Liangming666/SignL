{
 "cells": [
  {
   "cell_type": "code",
   "execution_count": 1,
   "metadata": {
    "collapsed": true
   },
   "outputs": [],
   "source": [
    "import pickle"
   ]
  },
  {
   "cell_type": "code",
   "execution_count": 14,
   "metadata": {
    "collapsed": false
   },
   "outputs": [],
   "source": [
    "checkfilename = 'hmm_data/what_time'"
   ]
  },
  {
   "cell_type": "code",
   "execution_count": 17,
   "metadata": {
    "collapsed": false
   },
   "outputs": [
    {
     "name": "stdout",
     "output_type": "stream",
     "text": [
      "time1\n"
     ]
    }
   ],
   "source": [
    "with open(\"labels.p\", \"rb\") as fp:\n",
    "    label = pickle.load(fp)\n",
    "print label[26]"
   ]
  },
  {
   "cell_type": "code",
   "execution_count": 15,
   "metadata": {
    "collapsed": false
   },
   "outputs": [
    {
     "name": "stdout",
     "output_type": "stream",
     "text": [
      "0 [0, 31, 31, 31, 31, 31, 31]\n",
      "1 [31, 31, 31, 31, 31, 31, 31, 31, 31]\n",
      "2 [26, 26, 26]\n",
      "3 [15, 26, 26, 26, 31, 31, 31, 31, 31, 31, 31]\n",
      "4 [31, 31, 31, 31, 31, 31, 31, 31, 26, 26, 52, 26, 26, 52, 31]\n",
      "5 [31, 26, 26, 31, 31, 31, 52, 31, 52, 52, 52, 31, 52, 52]\n",
      "6 [19, 31, 31, 31, 31, 31, 31, 31, 31, 31, 31]\n",
      "7 [31, 31, 31]\n",
      "8 [52, 31, 31, 31, 31, 31, 31, 31, 31, 31, 31, 31, 31, 31, 31, 31, 31, 31, 31, 31, 31, 31, 31, 31, 52]\n",
      "9 [29, 31, 31, 31, 26, 26, 32]\n",
      "10 [32, 26, 26, 26, 26, 31]\n",
      "11 [31, 31, 26, 31, 31, 31, 31, 26, 31]\n",
      "12 [26, 29]\n",
      "13 [26, 26, 26, 26, 31, 31, 26, 26, 26, 26, 31, 26]\n",
      "14 [26, 28, 26, 26, 26, 15, 15, 15, 15, 28]\n"
     ]
    }
   ],
   "source": [
    "with open(str(checkfilename)+\".npy\", \"rb\") as fp:\n",
    "    seq = pickle.load(fp)\n",
    "for i in range(len(seq)):\n",
    "    print i, seq[i]"
   ]
  },
  {
   "cell_type": "code",
   "execution_count": 18,
   "metadata": {
    "collapsed": true
   },
   "outputs": [],
   "source": [
    "kill = [0,1,6,7,8]"
   ]
  },
  {
   "cell_type": "code",
   "execution_count": 19,
   "metadata": {
    "collapsed": false
   },
   "outputs": [],
   "source": [
    "for offset, index in enumerate(kill):\n",
    "  index -= offset\n",
    "  del seq[index]"
   ]
  },
  {
   "cell_type": "code",
   "execution_count": 20,
   "metadata": {
    "collapsed": false,
    "scrolled": true
   },
   "outputs": [
    {
     "name": "stdout",
     "output_type": "stream",
     "text": [
      "0 [26, 26, 26]\n",
      "1 [15, 26, 26, 26, 31, 31, 31, 31, 31, 31, 31]\n",
      "2 [31, 31, 31, 31, 31, 31, 31, 31, 26, 26, 52, 26, 26, 52, 31]\n",
      "3 [31, 26, 26, 31, 31, 31, 52, 31, 52, 52, 52, 31, 52, 52]\n",
      "4 [29, 31, 31, 31, 26, 26, 32]\n",
      "5 [32, 26, 26, 26, 26, 31]\n",
      "6 [31, 31, 26, 31, 31, 31, 31, 26, 31]\n",
      "7 [26, 29]\n",
      "8 [26, 26, 26, 26, 31, 31, 26, 26, 26, 26, 31, 26]\n",
      "9 [26, 28, 26, 26, 26, 15, 15, 15, 15, 28]\n"
     ]
    }
   ],
   "source": [
    "for i in range(len(seq)):\n",
    "    print i, seq[i]"
   ]
  },
  {
   "cell_type": "code",
   "execution_count": 21,
   "metadata": {
    "collapsed": true
   },
   "outputs": [],
   "source": [
    "with open(str(checkfilename)+\".npy\", \"wb\") as fp:\n",
    "    pickle.dump(seq, fp)"
   ]
  },
  {
   "cell_type": "code",
   "execution_count": null,
   "metadata": {
    "collapsed": true
   },
   "outputs": [],
   "source": []
  }
 ],
 "metadata": {
  "kernelspec": {
   "display_name": "Python 2",
   "language": "python",
   "name": "python2"
  },
  "language_info": {
   "codemirror_mode": {
    "name": "ipython",
    "version": 2
   },
   "file_extension": ".py",
   "mimetype": "text/x-python",
   "name": "python",
   "nbconvert_exporter": "python",
   "pygments_lexer": "ipython2",
   "version": "2.7.6"
  }
 },
 "nbformat": 4,
 "nbformat_minor": 2
}
