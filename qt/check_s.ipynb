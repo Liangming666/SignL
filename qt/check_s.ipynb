{
 "cells": [
  {
   "cell_type": "code",
   "execution_count": 10,
   "metadata": {
    "collapsed": true
   },
   "outputs": [],
   "source": [
    "import pickle"
   ]
  },
  {
   "cell_type": "code",
   "execution_count": 14,
   "metadata": {
    "collapsed": false
   },
   "outputs": [],
   "source": [
    "checkfilename = 'hmm_data/hru2'"
   ]
  },
  {
   "cell_type": "code",
   "execution_count": 15,
   "metadata": {
    "collapsed": false
   },
   "outputs": [
    {
     "name": "stdout",
     "output_type": "stream",
     "text": [
      "nob2\n"
     ]
    }
   ],
   "source": [
    "with open(\"labels.p\", \"rb\") as fp:\n",
    "    label = pickle.load(fp)\n",
    "print label[33]"
   ]
  },
  {
   "cell_type": "code",
   "execution_count": 16,
   "metadata": {
    "collapsed": false
   },
   "outputs": [
    {
     "name": "stdout",
     "output_type": "stream",
     "text": [
      "0 [0, 11, 11, 30, 30, 30, 30, 29, 29, 29, 28]\n",
      "1 [11, 26, 26, 30, 30, 30, 26, 29, 29, 30, 28]\n",
      "2 [26, 26, 10, 30]\n",
      "3 [30, 26, 26, 28]\n",
      "4 [30, 26, 30, 11, 29]\n",
      "5 [26, 30, 30, 30]\n",
      "6 [29, 26, 29]\n",
      "7 [28, 30, 30, 26, 29, 29, 29, 31]\n",
      "8 [29, 30, 29, 30, 30, 26]\n",
      "9 [30, 30, 29, 30]\n",
      "10 [19, 30, 30, 29, 29, 29]\n",
      "11 [19, 30]\n",
      "12 [11, 11, 26]\n",
      "13 [29, 30, 30, 10]\n",
      "14 [26, 26, 30]\n",
      "15 [30, 30, 30, 30, 10, 29, 29, 10]\n",
      "16 [30, 30, 30, 30, 10, 10, 10, 30]\n",
      "17 [29, 30, 30, 30, 29, 29]\n",
      "18 [30, 30, 30, 30, 29, 11, 10]\n",
      "19 [26, 10]\n",
      "20 [30, 30, 14, 14, 14]\n",
      "21 [19, 29, 26, 26]\n",
      "22 [23, 26, 30, 29, 17, 31]\n",
      "23 [26, 30]\n",
      "24 [30, 26]\n",
      "25 [26, 30]\n",
      "26 [26, 29, 30]\n",
      "27 [30, 30, 30, 29]\n",
      "28 [19, 26, 30]\n",
      "29 [42, 26, 26]\n"
     ]
    }
   ],
   "source": [
    "with open(str(checkfilename)+\".npy\", \"rb\") as fp:\n",
    "    seq = pickle.load(fp)\n",
    "for i in range(len(seq)):\n",
    "    print i, seq[i]"
   ]
  },
  {
   "cell_type": "code",
   "execution_count": 6,
   "metadata": {
    "collapsed": true
   },
   "outputs": [],
   "source": [
    "kill = [30]"
   ]
  },
  {
   "cell_type": "code",
   "execution_count": 7,
   "metadata": {
    "collapsed": false
   },
   "outputs": [],
   "source": [
    "for offset, index in enumerate(kill):\n",
    "  index -= offset\n",
    "  del seq[index]"
   ]
  },
  {
   "cell_type": "code",
   "execution_count": 8,
   "metadata": {
    "collapsed": false,
    "scrolled": false
   },
   "outputs": [
    {
     "name": "stdout",
     "output_type": "stream",
     "text": [
      "0 [0, 6, 41, 41, 6, 50, 50]\n",
      "1 [41, 41, 52, 50, 50, 27]\n",
      "2 [41, 41, 32, 32, 33, 50]\n",
      "3 [41, 41, 41, 50, 50, 50, 50]\n",
      "4 [36, 29, 50, 50, 8, 50, 8]\n",
      "5 [41, 38, 38, 15, 21, 15, 36]\n",
      "6 [41, 41, 41, 32, 15, 15, 50]\n",
      "7 [41, 41, 41, 21, 15, 15, 36, 14]\n",
      "8 [22, 41, 41, 52, 52, 52, 52]\n",
      "9 [41, 14, 21, 21, 21]\n",
      "10 [39, 9, 9, 46, 46, 46, 14]\n",
      "11 [9, 22, 22, 14, 14, 32, 32, 32, 50]\n",
      "12 [26, 39, 39, 39, 46, 46, 46, 46, 27]\n",
      "13 [6, 46, 21, 39, 46, 46, 15, 32]\n",
      "14 [14, 41, 22, 22, 46, 32, 32, 32, 14]\n",
      "15 [22, 22, 22, 39, 32, 21, 21, 21, 14]\n",
      "16 [41, 41, 9, 9, 32, 32, 32, 32, 50]\n",
      "17 [41, 41, 41, 41, 32, 32, 32, 32, 9]\n",
      "18 [41, 41, 41, 14, 21, 36, 50, 14]\n",
      "19 [41, 6, 50, 52, 52, 52, 14, 52, 52, 52]\n",
      "20 [52, 39, 41, 36, 32, 21, 21, 50]\n",
      "21 [27, 6, 41, 6, 32, 52, 52, 14, 52, 52, 52]\n",
      "22 [41, 39, 21, 21, 21, 52, 52, 41, 41, 41]\n",
      "23 [52, 52, 51, 14, 41, 32, 52, 52, 30, 41, 41, 41, 52, 29, 29]\n",
      "24 [41, 41, 52]\n",
      "25 [6, 41, 9, 6, 21, 21]\n",
      "26 [36, 41, 41, 14, 11, 9]\n",
      "27 [39, 41, 41, 46, 32, 32, 32, 32]\n",
      "28 [41, 41, 41, 32, 52, 52, 52]\n",
      "29 [41, 9, 41, 9, 52, 52, 52, 52]\n"
     ]
    }
   ],
   "source": [
    "for i in range(len(seq)):\n",
    "    print i, seq[i]"
   ]
  },
  {
   "cell_type": "code",
   "execution_count": 9,
   "metadata": {
    "collapsed": true
   },
   "outputs": [],
   "source": [
    "with open(str(checkfilename)+\".npy\", \"wb\") as fp:\n",
    "    pickle.dump(seq, fp)"
   ]
  },
  {
   "cell_type": "code",
   "execution_count": null,
   "metadata": {
    "collapsed": true
   },
   "outputs": [],
   "source": []
  }
 ],
 "metadata": {
  "kernelspec": {
   "display_name": "Python 2",
   "language": "python",
   "name": "python2"
  },
  "language_info": {
   "codemirror_mode": {
    "name": "ipython",
    "version": 2
   },
   "file_extension": ".py",
   "mimetype": "text/x-python",
   "name": "python",
   "nbconvert_exporter": "python",
   "pygments_lexer": "ipython2",
   "version": "2.7.6"
  }
 },
 "nbformat": 4,
 "nbformat_minor": 2
}
